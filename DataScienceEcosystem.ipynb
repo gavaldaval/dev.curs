{
 "cells": [
  {
   "cell_type": "markdown",
   "id": "e163280e-cbe0-4f3e-be29-aadf6bf1222b",
   "metadata": {
    "tags": []
   },
   "source": [
    "#  Data Science Tools and ecosystem"
   ]
  },
  {
   "cell_type": "markdown",
   "id": "0293883a-1f4b-47cf-a779-524d6f114d7c",
   "metadata": {},
   "source": [
    "In this notebook, Data Science Tools and Ecosystem are summarized"
   ]
  },
  {
   "cell_type": "markdown",
   "id": "22906cc5-ca3e-4320-9742-66c21b76bc75",
   "metadata": {},
   "source": [
    "**Objectives:**\n",
    "\n",
    "- List popular languages that Data Scientists use.\n",
    "- List commonly used libraries used by Data Scientists.\n",
    "- Comment and understand about Data Science tools."
   ]
  },
  {
   "cell_type": "markdown",
   "id": "c7699ccd-c586-41cf-8326-ae53844adf9a",
   "metadata": {},
   "source": [
    "Some of the popular languages that Data Scientists use are:\n",
    "1. Python\n",
    "2. SQL\n",
    "3. R\n",
    "4. Scala\n",
    "5. Java\n",
    "6. C/C++"
   ]
  },
  {
   "cell_type": "markdown",
   "id": "de26b5f3-5227-4ac2-b9d9-8f4e9dd6adf1",
   "metadata": {},
   "source": [
    "Some of the commonly used libraries used by Data Scientists include:\n",
    "1. NumPy\n",
    "2. Pandas\n",
    "3. Matplotlib \n",
    "4. PyTorch\n",
    "5. Keras"
   ]
  },
  {
   "cell_type": "markdown",
   "id": "c07643ab-2b47-45e4-9317-2e92fffc855a",
   "metadata": {
    "jp-MarkdownHeadingCollapsed": true,
    "tags": []
   },
   "source": [
    "Data Science Tools:\n",
    "\n",
    "| Data Science Tools | \n",
    "|:--------:|\n",
    "|  SAS   |  \n",
    "|  BigML   |  \n",
    "|  Apache Spark   | "
   ]
  },
  {
   "cell_type": "markdown",
   "id": "2499d5e0-b5e8-4178-bac5-4e910a7ccca3",
   "metadata": {},
   "source": [
    "### Below are a few examples of evaluating arithmetic expressions in Python.\n"
   ]
  },
  {
   "cell_type": "markdown",
   "id": "54dc5250-af5b-4ba9-bec7-844591a1e65b",
   "metadata": {},
   "source": [
    "This a simple arithmetic expression to mutiply then add integers\n"
   ]
  },
  {
   "cell_type": "code",
   "execution_count": 14,
   "id": "5a1e5115-8e4c-48ef-a2b9-da438a2fede5",
   "metadata": {
    "tags": []
   },
   "outputs": [
    {
     "data": {
      "text/plain": [
       "17"
      ]
     },
     "execution_count": 14,
     "metadata": {},
     "output_type": "execute_result"
    }
   ],
   "source": [
    "x=3\n",
    "y=4\n",
    "(x*y)+5"
   ]
  },
  {
   "cell_type": "code",
   "execution_count": 23,
   "id": "eaf4cdad-322e-4093-a9b8-7ebcc7d8e353",
   "metadata": {
    "tags": []
   },
   "outputs": [
    {
     "name": "stdout",
     "output_type": "stream",
     "text": [
      "0 days, 3.3333333333333335 hours, 0 mins. \n"
     ]
    }
   ],
   "source": [
    "#This will convert 200 minutes to hours by diving by 60#\n",
    "\n",
    "days = 0\n",
    "hours = 0\n",
    "mins = 0\n",
    "\n",
    "time = 200\n",
    "#days = time / 1440\n",
    "leftover_minutes = time % 1440\n",
    "hours = leftover_minutes / 60\n",
    "#mins = time - (days*1440) - (hours*60)\n",
    "print(str(days) + \" days, \" + str(hours) + \" hours, \" + str(mins) +  \" mins. \")"
   ]
  },
  {
   "cell_type": "markdown",
   "id": "34335bdd-d781-466f-9d5e-b0b00d717575",
   "metadata": {},
   "source": [
    "## Author\n",
    "Enric Vidal"
   ]
  },
  {
   "cell_type": "code",
   "execution_count": null,
   "id": "8c253a23-e547-4d2b-8839-58e74014367b",
   "metadata": {},
   "outputs": [],
   "source": []
  }
 ],
 "metadata": {
  "kernelspec": {
   "display_name": "Python",
   "language": "python",
   "name": "conda-env-python-py"
  },
  "language_info": {
   "codemirror_mode": {
    "name": "ipython",
    "version": 3
   },
   "file_extension": ".py",
   "mimetype": "text/x-python",
   "name": "python",
   "nbconvert_exporter": "python",
   "pygments_lexer": "ipython3",
   "version": "3.7.12"
  }
 },
 "nbformat": 4,
 "nbformat_minor": 5
}
